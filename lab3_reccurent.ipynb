{
 "cells": [
  {
   "cell_type": "markdown",
   "metadata": {},
   "source": [
    "# Лабораторна робота 3: Знайомство з нейромережами"
   ]
  },
  {
   "cell_type": "markdown",
   "metadata": {},
   "source": [
    "## 3. Рекурентні нейромережі"
   ]
  },
  {
   "cell_type": "markdown",
   "metadata": {},
   "source": [
    "### Обробка та класифікація текстових даних"
   ]
  },
  {
   "cell_type": "code",
   "execution_count": 1,
   "metadata": {},
   "outputs": [
    {
     "name": "stdout",
     "output_type": "stream",
     "text": [
      "12894\n"
     ]
    }
   ],
   "source": [
    "import pandas as pd\n",
    "\n",
    "tweets = pd.read_csv(\"data\\gender_tweets.csv\")\n",
    "tweets = tweets[[\"gender\", \"text\"]]\n",
    "tweets = tweets.loc[(tweets[\"gender\"] == \"male\") | (tweets[\"gender\"] == \"female\")]\n",
    "tweets = tweets.dropna()\n",
    "\n",
    "print(len(tweets.index))"
   ]
  },
  {
   "cell_type": "code",
   "execution_count": 2,
   "metadata": {},
   "outputs": [
    {
     "data": {
      "text/html": [
       "<div>\n",
       "<style scoped>\n",
       "    .dataframe tbody tr th:only-of-type {\n",
       "        vertical-align: middle;\n",
       "    }\n",
       "\n",
       "    .dataframe tbody tr th {\n",
       "        vertical-align: top;\n",
       "    }\n",
       "\n",
       "    .dataframe thead th {\n",
       "        text-align: right;\n",
       "    }\n",
       "</style>\n",
       "<table border=\"1\" class=\"dataframe\">\n",
       "  <thead>\n",
       "    <tr style=\"text-align: right;\">\n",
       "      <th></th>\n",
       "      <th>gender</th>\n",
       "      <th>text</th>\n",
       "    </tr>\n",
       "  </thead>\n",
       "  <tbody>\n",
       "    <tr>\n",
       "      <th>0</th>\n",
       "      <td>male</td>\n",
       "      <td>robbie e responds critics win eddie edwards</td>\n",
       "    </tr>\n",
       "    <tr>\n",
       "      <th>1</th>\n",
       "      <td>male</td>\n",
       "      <td>‰ыпit felt like friends living story them‰ыќ</td>\n",
       "    </tr>\n",
       "    <tr>\n",
       "      <th>2</th>\n",
       "      <td>male</td>\n",
       "      <td>absolutely adore louis starts songs hits hard ...</td>\n",
       "    </tr>\n",
       "    <tr>\n",
       "      <th>3</th>\n",
       "      <td>male</td>\n",
       "      <td>hi looking url use typically see advanced user</td>\n",
       "    </tr>\n",
       "    <tr>\n",
       "      <th>4</th>\n",
       "      <td>female</td>\n",
       "      <td>watching neighbours sky catching neighbs xxx щ...</td>\n",
       "    </tr>\n",
       "    <tr>\n",
       "      <th>5</th>\n",
       "      <td>female</td>\n",
       "      <td>ive seen people train lamps chairs tvs etc</td>\n",
       "    </tr>\n",
       "    <tr>\n",
       "      <th>7</th>\n",
       "      <td>male</td>\n",
       "      <td>gala bingo clubs bought еј uk largest high str...</td>\n",
       "    </tr>\n",
       "    <tr>\n",
       "      <th>8</th>\n",
       "      <td>female</td>\n",
       "      <td>pic defines mcd fangirls fanboys mcd shippers xd</td>\n",
       "    </tr>\n",
       "    <tr>\n",
       "      <th>9</th>\n",
       "      <td>female</td>\n",
       "      <td>lovely tree year never seen gorgeous</td>\n",
       "    </tr>\n",
       "    <tr>\n",
       "      <th>12</th>\n",
       "      <td>female</td>\n",
       "      <td>put ass line repay</td>\n",
       "    </tr>\n",
       "  </tbody>\n",
       "</table>\n",
       "</div>"
      ],
      "text/plain": [
       "    gender                                               text\n",
       "0     male       robbie e responds critics win eddie edwards \n",
       "1     male      ‰ыпit felt like friends living story them‰ыќ \n",
       "2     male  absolutely adore louis starts songs hits hard ...\n",
       "3     male    hi looking url use typically see advanced user \n",
       "4   female  watching neighbours sky catching neighbs xxx щ...\n",
       "5   female        ive seen people train lamps chairs tvs etc \n",
       "7     male  gala bingo clubs bought еј uk largest high str...\n",
       "8   female   pic defines mcd fangirls fanboys mcd shippers xd\n",
       "9   female              lovely tree year never seen gorgeous \n",
       "12  female                                put ass line repay "
      ]
     },
     "execution_count": 2,
     "metadata": {},
     "output_type": "execute_result"
    }
   ],
   "source": [
    "# from nltk import download\n",
    "# download('stopwords')\n",
    "from nltk.corpus import stopwords\n",
    "import re\n",
    "import string\n",
    "\n",
    "\n",
    "stop_words = stopwords.words(\"english\")\n",
    "\n",
    "def clean_text(text):\n",
    "    text = text.lower()\n",
    "    text = re.sub(\"@\\S+\", \" \", text)\n",
    "    text = re.sub(\"https*\\S+\", \" \", text)\n",
    "    text = re.sub(\"#\\S+\", \" \", text)\n",
    "    text = re.sub(\"\\d\", \" \", text)\n",
    "    text = re.sub('[%s]' % re.escape(string.punctuation), ' ', text)\n",
    "    text = re.sub('\\n', ' ', text)\n",
    "    # text = re.sub('щч', ' ', text) \n",
    "    text = re.sub('\\s{2,}', ' ', text)\n",
    "    text = ' '.join([word for word in text.split(' ') if word not in stop_words])\n",
    "    return text\n",
    "\n",
    "\n",
    "texts = tweets[\"text\"]\n",
    "tweets[\"text\"] = [clean_text(t) for t in texts]\n",
    "\n",
    "tweets.head(10)"
   ]
  },
  {
   "cell_type": "code",
   "execution_count": 7,
   "metadata": {},
   "outputs": [],
   "source": [
    "from tensorflow.keras.preprocessing.text import Tokenizer\n",
    "\n",
    "max_features = 10000 \n",
    "text_tokenizer = Tokenizer(num_words=max_features)\n",
    "text_tokenizer.fit_on_texts(tweets[\"text\"])\n",
    "word_index = dict(sorted(text_tokenizer.word_index.items(), key=lambda i: i[1])[:max_features]) "
   ]
  },
  {
   "cell_type": "code",
   "execution_count": null,
   "metadata": {},
   "outputs": [
    {
     "name": "stdout",
     "output_type": "stream",
     "text": [
      "gender\n",
      "female    6700\n",
      "male      6194\n",
      "Name: count, dtype: int64\n"
     ]
    }
   ],
   "source": [
    "from sklearn.feature_extraction.text import TfidfVectorizer\n",
    "from sklearn.model_selection import train_test_split\n",
    "\n",
    "\n",
    "X_train, X_test, y_train, y_test = train_test_split(tweets[\"text\"], tweets[\"gender\"], test_size=0.25)\n",
    "print(tweets[\"gender\"].value_counts())\n",
    "vectorizer = TfidfVectorizer(max_df=0.75, min_df=2)\n",
    "X_train = vectorizer.fit_transform(X_train)\n",
    "X_test = vectorizer.transform(X_test)"
   ]
  },
  {
   "cell_type": "code",
   "execution_count": 165,
   "metadata": {},
   "outputs": [],
   "source": [
    "from sklearn.ensemble import RandomForestClassifier\n",
    "from sklearn.metrics import classification_report,confusion_matrix, accuracy_score\n",
    "\n",
    "model = RandomForestClassifier(n_estimators=100)\n",
    "model.fit(X_train, y_train)\n",
    "\n",
    "rf_pred = model.predict(X_test)"
   ]
  },
  {
   "cell_type": "code",
   "execution_count": 166,
   "metadata": {},
   "outputs": [
    {
     "name": "stdout",
     "output_type": "stream",
     "text": [
      "Random Forest\n",
      "              precision    recall  f1-score   support\n",
      "\n",
      "      female       0.60      0.62      0.61      1682\n",
      "        male       0.57      0.55      0.56      1542\n",
      "\n",
      "    accuracy                           0.59      3224\n",
      "   macro avg       0.59      0.59      0.59      3224\n",
      "weighted avg       0.59      0.59      0.59      3224\n",
      "\n",
      "[[1049  633]\n",
      " [ 695  847]]\n",
      "0.5880893300248139\n"
     ]
    }
   ],
   "source": [
    "print('Random Forest')\n",
    "print(classification_report(y_test, rf_pred))\n",
    "print(confusion_matrix(y_test, rf_pred))\n",
    "print(accuracy_score(y_test, rf_pred))"
   ]
  },
  {
   "cell_type": "code",
   "execution_count": 167,
   "metadata": {},
   "outputs": [],
   "source": [
    "from sklearn.linear_model import LogisticRegression\n",
    "\n",
    "model = LogisticRegression()\n",
    "model.fit(X_train, y_train)\n",
    "\n",
    "lr_pred = model.predict(X_test)"
   ]
  },
  {
   "cell_type": "code",
   "execution_count": 168,
   "metadata": {},
   "outputs": [
    {
     "name": "stdout",
     "output_type": "stream",
     "text": [
      "Logistic Regression\n",
      "              precision    recall  f1-score   support\n",
      "\n",
      "      female       0.61      0.62      0.62      1682\n",
      "        male       0.58      0.57      0.58      1542\n",
      "\n",
      "    accuracy                           0.60      3224\n",
      "   macro avg       0.60      0.60      0.60      3224\n",
      "weighted avg       0.60      0.60      0.60      3224\n",
      "\n",
      "[[1049  633]\n",
      " [ 663  879]]\n",
      "0.598014888337469\n"
     ]
    }
   ],
   "source": [
    "print('Logistic Regression')\n",
    "print(classification_report(y_test, lr_pred))\n",
    "print(confusion_matrix(y_test, lr_pred))\n",
    "print(accuracy_score(y_test, lr_pred))"
   ]
  },
  {
   "cell_type": "code",
   "execution_count": 169,
   "metadata": {},
   "outputs": [
    {
     "name": "stdout",
     "output_type": "stream",
     "text": [
      "              precision    recall  f1-score   support\n",
      "\n",
      "      female       0.61      0.67      0.63      1682\n",
      "        male       0.59      0.53      0.56      1542\n",
      "\n",
      "    accuracy                           0.60      3224\n",
      "   macro avg       0.60      0.60      0.60      3224\n",
      "weighted avg       0.60      0.60      0.60      3224\n",
      "\n",
      "[[1121  561]\n",
      " [ 731  811]]\n",
      "0.5992555831265509\n"
     ]
    }
   ],
   "source": [
    "from sklearn.naive_bayes import MultinomialNB\n",
    "\n",
    "clf = MultinomialNB(alpha=0.1)\n",
    "clf.fit(X_train, y_train)\n",
    "y_pred = clf.predict(X_test)\n",
    "\n",
    "print(classification_report(y_test, y_pred))\n",
    "print(confusion_matrix(y_test, y_pred))\n",
    "print(accuracy_score(y_test, y_pred))"
   ]
  },
  {
   "cell_type": "code",
   "execution_count": 21,
   "metadata": {},
   "outputs": [
    {
     "name": "stdout",
     "output_type": "stream",
     "text": [
      "6.07243700815795e+205\n"
     ]
    }
   ],
   "source": [
    "import gmpy2\n",
    "\n",
    "x = 223918025129459487107767866424624306433391663614090198957572415138759744099264476876787091799138413635904915927464261353322899903251135444406749677689987291659186458375916309783124739210519493982956237437130126345853469698091576208045670590293468120271107568638961976060665804681027342505785728194343591287151261641426587744218185091375968062310434076687735710941709580396460511496419444967441677650646400102795632711882809158688468674928063137654022144491524774577161212563602167655669024503881510368656077753819296119359521817385285937499568629296819719924953809497347814061179195391383049247387679203623859376434118\n",
    "\n",
    "sqrtx = gmpy2.root(x, 3)\n",
    "\n",
    "print(sqrtx)"
   ]
  }
 ],
 "metadata": {
  "kernelspec": {
   "display_name": "Python 3",
   "language": "python",
   "name": "python3"
  },
  "language_info": {
   "codemirror_mode": {
    "name": "ipython",
    "version": 3
   },
   "file_extension": ".py",
   "mimetype": "text/x-python",
   "name": "python",
   "nbconvert_exporter": "python",
   "pygments_lexer": "ipython3",
   "version": "3.11.5"
  }
 },
 "nbformat": 4,
 "nbformat_minor": 2
}
